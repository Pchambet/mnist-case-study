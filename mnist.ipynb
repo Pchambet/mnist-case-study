{
 "cells": [
  {
   "cell_type": "code",
   "execution_count": 88,
   "id": "804bf94f",
   "metadata": {},
   "outputs": [],
   "source": [
    "#!pip install torch torchvision\n",
    "#!pip install tensorflow"
   ]
  },
  {
   "cell_type": "markdown",
   "id": "8be59130",
   "metadata": {},
   "source": [
    "\n",
    "# MNIST — Manual Load\n",
    "\n",
    "## Step 1: Import libraries\n"
   ]
  },
  {
   "cell_type": "code",
   "execution_count": 89,
   "id": "06b38128",
   "metadata": {},
   "outputs": [],
   "source": [
    "import numpy as np\n",
    "import matplotlib.pyplot as plt\n",
    "from tensorflow.keras.datasets import mnist  # just to load the data as raw NumPy arrays"
   ]
  },
  {
   "cell_type": "markdown",
   "id": "5739a735",
   "metadata": {},
   "source": [
    "## Step 2: Load raw MNIST data (60k train, 10k test)"
   ]
  },
  {
   "cell_type": "code",
   "execution_count": 90,
   "id": "0a141fcb",
   "metadata": {},
   "outputs": [],
   "source": [
    "(X_train, y_train), (X_test, y_test) = mnist.load_data()"
   ]
  },
  {
   "cell_type": "markdown",
   "id": "640cdf6d",
   "metadata": {},
   "source": [
    "## Step 3: Explore data shapes\n"
   ]
  },
  {
   "cell_type": "code",
   "execution_count": 91,
   "id": "85c823f1",
   "metadata": {},
   "outputs": [
    {
     "name": "stdout",
     "output_type": "stream",
     "text": [
      "Training data shape: (60000, 28, 28)\n",
      "Training labels shape: (60000,)\n",
      "Test data shape: (10000, 28, 28)\n",
      "Test labels shape: (10000,)\n"
     ]
    }
   ],
   "source": [
    "print(\"Training data shape:\", X_train.shape)   \n",
    "print(\"Training labels shape:\", y_train.shape) \n",
    "print(\"Test data shape:\", X_test.shape)  \n",
    "print(\"Test labels shape:\", y_test.shape)     "
   ]
  },
  {
   "cell_type": "markdown",
   "id": "72c53046",
   "metadata": {},
   "source": [
    "## Step 4: Inspect a single image (raw values)\n"
   ]
  },
  {
   "cell_type": "code",
   "execution_count": 92,
   "id": "2589f5c9",
   "metadata": {},
   "outputs": [
    {
     "name": "stdout",
     "output_type": "stream",
     "text": [
      "Label: 3\n",
      "Pixel values:\n",
      " [[  0   0   0   0   0   0   0   0   0   0   0   0   0   0   0   0   0   0\n",
      "    0   0   0   0   0   0   0   0   0   0]\n",
      " [  0   0   0   0   0   0   0   0   0   0   0   0   0   0   0   0   0   0\n",
      "    0   0   0   0   0   0   0   0   0   0]\n",
      " [  0   0   0   0   0   0   0   0   0   0   0   0   0   0   0   0   0   0\n",
      "    0   0   0   0   0   0   0   0   0   0]\n",
      " [  0   0   0   0   0   0   0   0   0   0   0   0   0   0   0   0   0   0\n",
      "    0   0   0   0   0   0   0   0   0   0]\n",
      " [  0   0   0   0   0   0   0   0   0   0   0  42 118 219 166 118 118   6\n",
      "    0   0   0   0   0   0   0   0   0   0]\n",
      " [  0   0   0   0   0   0   0   0   0   0 103 242 254 254 254 254 254  66\n",
      "    0   0   0   0   0   0   0   0   0   0]\n",
      " [  0   0   0   0   0   0   0   0   0   0  18 232 254 254 254 254 254 238\n",
      "   70   0   0   0   0   0   0   0   0   0]\n",
      " [  0   0   0   0   0   0   0   0   0   0   0 104 244 254 224 254 254 254\n",
      "  141   0   0   0   0   0   0   0   0   0]\n",
      " [  0   0   0   0   0   0   0   0   0   0   0   0 207 254 210 254 254 254\n",
      "   34   0   0   0   0   0   0   0   0   0]\n",
      " [  0   0   0   0   0   0   0   0   0   0   0   0  84 206 254 254 254 254\n",
      "   41   0   0   0   0   0   0   0   0   0]\n",
      " [  0   0   0   0   0   0   0   0   0   0   0   0   0  24 209 254 254 254\n",
      "  171   0   0   0   0   0   0   0   0   0]\n",
      " [  0   0   0   0   0   0   0   0   0   0   0   0  91 137 253 254 254 254\n",
      "  112   0   0   0   0   0   0   0   0   0]\n",
      " [  0   0   0   0   0   0   0   0   0   0  40 214 250 254 254 254 254 254\n",
      "   34   0   0   0   0   0   0   0   0   0]\n",
      " [  0   0   0   0   0   0   0   0   0   0  81 247 254 254 254 254 254 254\n",
      "  146   0   0   0   0   0   0   0   0   0]\n",
      " [  0   0   0   0   0   0   0   0   0   0   0 110 246 254 254 254 254 254\n",
      "  171   0   0   0   0   0   0   0   0   0]\n",
      " [  0   0   0   0   0   0   0   0   0   0   0   0  73  89  89  93 240 254\n",
      "  171   0   0   0   0   0   0   0   0   0]\n",
      " [  0   0   0   0   0   0   0   0   0   0   0   0   0   0   0   1 128 254\n",
      "  219  31   0   0   0   0   0   0   0   0]\n",
      " [  0   0   0   0   0   0   0   0   0   0   0   0   0   0   0   7 254 254\n",
      "  214  28   0   0   0   0   0   0   0   0]\n",
      " [  0   0   0   0   0   0   0   0   0   0   0   0   0   0   0 138 254 254\n",
      "  116   0   0   0   0   0   0   0   0   0]\n",
      " [  0   0   0   0   0   0  19 177  90   0   0   0   0   0  25 240 254 254\n",
      "   34   0   0   0   0   0   0   0   0   0]\n",
      " [  0   0   0   0   0   0 164 254 215  63  36   0  51  89 206 254 254 139\n",
      "    8   0   0   0   0   0   0   0   0   0]\n",
      " [  0   0   0   0   0   0  57 197 254 254 222 180 241 254 254 253 213  11\n",
      "    0   0   0   0   0   0   0   0   0   0]\n",
      " [  0   0   0   0   0   0   0 140 105 254 254 254 254 254 254 236   0   0\n",
      "    0   0   0   0   0   0   0   0   0   0]\n",
      " [  0   0   0   0   0   0   0   0   7 117 117 165 254 254 239  50   0   0\n",
      "    0   0   0   0   0   0   0   0   0   0]\n",
      " [  0   0   0   0   0   0   0   0   0   0   0   0   0   0   0   0   0   0\n",
      "    0   0   0   0   0   0   0   0   0   0]\n",
      " [  0   0   0   0   0   0   0   0   0   0   0   0   0   0   0   0   0   0\n",
      "    0   0   0   0   0   0   0   0   0   0]\n",
      " [  0   0   0   0   0   0   0   0   0   0   0   0   0   0   0   0   0   0\n",
      "    0   0   0   0   0   0   0   0   0   0]\n",
      " [  0   0   0   0   0   0   0   0   0   0   0   0   0   0   0   0   0   0\n",
      "    0   0   0   0   0   0   0   0   0   0]]\n"
     ]
    }
   ],
   "source": [
    "index = 10  # Change this index to view different images\n",
    "print(\"Label:\", y_train[index])\n",
    "print(\"Pixel values:\\n\", X_train[index])  # Each pixel is a value between 0 and 255"
   ]
  },
  {
   "cell_type": "markdown",
   "id": "9066ec2a",
   "metadata": {},
   "source": [
    "## Step 5: Display some digits\n"
   ]
  },
  {
   "cell_type": "code",
   "execution_count": 93,
   "id": "8167d112",
   "metadata": {},
   "outputs": [
    {
     "data": {
      "image/png": "[encoded data removed]",
      "text/plain": [
       "<Figure size 1200x200 with 10 Axes>"
      ]
     },
     "metadata": {},
     "output_type": "display_data"
    }
   ],
   "source": [
    "def show_digits(images, labels, n=10):\n",
    "    plt.figure(figsize=(12, 2))\n",
    "    for i in range(n):\n",
    "        plt.subplot(1, n, i + 1)\n",
    "        plt.imshow(images[i], cmap='gray')\n",
    "        plt.title(f\"{labels[i]}\")\n",
    "        plt.axis('off') \n",
    "    plt.tight_layout()\n",
    "    plt.show()\n",
    "\n",
    "show_digits(X_train, y_train, n=10)"
   ]
  },
  {
   "cell_type": "code",
   "execution_count": 103,
   "id": "2b1830cd",
   "metadata": {},
   "outputs": [
    {
     "data": {
      "image/png": "[encoded data removed]",
      "text/plain": [
       "<Figure size 640x480 with 1 Axes>"
      ]
     },
     "metadata": {},
     "output_type": "display_data"
    }
   ],
   "source": [
    "plt.imshow(X_train[0], cmap='gray')\n",
    "plt.show()"
   ]
  },
  {
   "cell_type": "markdown",
   "id": "c033c57c",
   "metadata": {},
   "source": [
    "# MNIST - Preprocessing Data"
   ]
  },
  {
   "cell_type": "markdown",
   "id": "e2eee178",
   "metadata": {},
   "source": [
    "## Step 1 : Flatten images"
   ]
  },
  {
   "cell_type": "code",
   "execution_count": 94,
   "id": "857eb7b3",
   "metadata": {},
   "outputs": [],
   "source": [
    "X_train_flatten = X_train.reshape(X_train.shape[0], -1)  # Flatten the images\n",
    "X_test_flatten = X_test.reshape(X_test.shape[0], -1)"
   ]
  },
  {
   "cell_type": "code",
   "execution_count": 95,
   "id": "4037c1ea",
   "metadata": {},
   "outputs": [],
   "source": [
    "# X_train.reshape(X_train.shape[0], -1) = X_train.reshape(X_train.shape[0], X_train.shape[1] * X_train.shape[2])"
   ]
  },
  {
   "cell_type": "code",
   "execution_count": 96,
   "id": "9f0302fe",
   "metadata": {},
   "outputs": [
    {
     "name": "stdout",
     "output_type": "stream",
     "text": [
      "Flattened training data shape: (60000, 784)\n",
      "Flattened test data shape: (10000, 784)\n"
     ]
    }
   ],
   "source": [
    "print(\"Flattened training data shape:\", X_train_flatten.shape)\n",
    "print(\"Flattened test data shape:\", X_test_flatten.shape)"
   ]
  },
  {
   "cell_type": "markdown",
   "id": "3ba808a9",
   "metadata": {},
   "source": [
    "## Step 2 : Normalize images"
   ]
  },
  {
   "cell_type": "code",
   "execution_count": 97,
   "id": "174080d5",
   "metadata": {},
   "outputs": [
    {
     "name": "stdout",
     "output_type": "stream",
     "text": [
      "Max pixel value in training data: 255\n"
     ]
    }
   ],
   "source": [
    "max_value = np.max(X_train)\n",
    "print(\"Max pixel value in training data:\", max_value)"
   ]
  },
  {
   "cell_type": "code",
   "execution_count": 98,
   "id": "6fcbf0d9",
   "metadata": {},
   "outputs": [],
   "source": [
    "X_train_normalized = X_train_flatten / max_value\n",
    "X_test_normalized = X_test_flatten / max_value"
   ]
  },
  {
   "cell_type": "code",
   "execution_count": 99,
   "id": "01f3ca12",
   "metadata": {},
   "outputs": [
    {
     "name": "stdout",
     "output_type": "stream",
     "text": [
      "Example of normalized training data: [0.         0.         0.         0.         0.         0.\n",
      " 0.         0.         0.         0.         0.         0.\n",
      " 0.         0.         0.         0.         0.         0.\n",
      " 0.         0.         0.         0.         0.         0.\n",
      " 0.         0.         0.         0.         0.         0.\n",
      " 0.         0.         0.         0.         0.         0.\n",
      " 0.         0.         0.         0.         0.         0.\n",
      " 0.         0.         0.         0.         0.         0.\n",
      " 0.         0.         0.         0.         0.01176471 0.07058824\n",
      " 0.07058824 0.07058824 0.49411765 0.53333333 0.68627451 0.10196078\n",
      " 0.65098039 1.         0.96862745 0.49803922 0.         0.\n",
      " 0.         0.         0.         0.         0.         0.\n",
      " 0.         0.         0.         0.         0.11764706 0.14117647\n",
      " 0.36862745 0.60392157 0.66666667 0.99215686 0.99215686 0.99215686\n",
      " 0.99215686 0.99215686 0.88235294 0.6745098  0.99215686 0.94901961\n",
      " 0.76470588 0.25098039 0.         0.         0.         0.\n",
      " 0.         0.         0.         0.        ]\n"
     ]
    }
   ],
   "source": [
    "print(\"Example of normalized training data:\", X_train_normalized[0][100:200]) # Displaying a slice of the first normalized image"
   ]
  }
 ],
 "metadata": {
  "kernelspec": {
   "display_name": "base",
   "language": "python",
   "name": "python3"
  },
  "language_info": {
   "codemirror_mode": {
    "name": "ipython",
    "version": 3
   },
   "file_extension": ".py",
   "mimetype": "text/x-python",
   "name": "python",
   "nbconvert_exporter": "python",
   "pygments_lexer": "ipython3",
   "version": "3.12.7"
  }
 },
 "nbformat": 4,
 "nbformat_minor": 5
}
