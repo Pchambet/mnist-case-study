{
 "cells": [
  {
   "cell_type": "code",
   "execution_count": 346,
   "id": "804bf94f",
   "metadata": {},
   "outputs": [],
   "source": [
    "#!pip install torch torchvision\n",
    "#!pip install tensorflow"
   ]
  },
  {
   "cell_type": "markdown",
   "id": "8be59130",
   "metadata": {},
   "source": [
    "\n",
    "# MNIST — DATA\n",
    "\n",
    "## Step 1: Import libraries\n"
   ]
  },
  {
   "cell_type": "code",
   "execution_count": 347,
   "id": "06b38128",
   "metadata": {},
   "outputs": [],
   "source": [
    "import numpy as np\n",
    "import matplotlib.pyplot as plt\n",
    "from tensorflow.keras.datasets import mnist  # just to load the data as raw NumPy arrays"
   ]
  },
  {
   "cell_type": "markdown",
   "id": "5739a735",
   "metadata": {},
   "source": [
    "## Step 2: Load raw MNIST data (60k train, 10k test)"
   ]
  },
  {
   "cell_type": "code",
   "execution_count": 348,
   "id": "0a141fcb",
   "metadata": {},
   "outputs": [],
   "source": [
    "(X_train, y_train), (X_test, y_test) = mnist.load_data()"
   ]
  },
  {
   "cell_type": "markdown",
   "id": "640cdf6d",
   "metadata": {},
   "source": [
    "## Step 3: Explore data shapes\n"
   ]
  },
  {
   "cell_type": "code",
   "execution_count": 349,
   "id": "85c823f1",
   "metadata": {},
   "outputs": [
    {
     "name": "stdout",
     "output_type": "stream",
     "text": [
      "Training data shape: (60000, 28, 28)\n",
      "Training labels shape: (60000,)\n",
      "Test data shape: (10000, 28, 28)\n",
      "Test labels shape: (10000,)\n"
     ]
    }
   ],
   "source": [
    "print(\"Training data shape:\", X_train.shape)   \n",
    "print(\"Training labels shape:\", y_train.shape) \n",
    "print(\"Test data shape:\", X_test.shape)  \n",
    "print(\"Test labels shape:\", y_test.shape)     "
   ]
  },
  {
   "cell_type": "markdown",
   "id": "72c53046",
   "metadata": {},
   "source": [
    "## Step 4: Inspect a single image (raw values)\n"
   ]
  },
  {
   "cell_type": "code",
   "execution_count": 350,
   "id": "2589f5c9",
   "metadata": {},
   "outputs": [
    {
     "name": "stdout",
     "output_type": "stream",
     "text": [
      "Label: 3\n",
      "Pixel values:\n",
      " [[  0   0   0   0   0   0   0   0   0   0   0   0   0   0   0   0   0   0\n",
      "    0   0   0   0   0   0   0   0   0   0]\n",
      " [  0   0   0   0   0   0   0   0   0   0   0   0   0   0   0   0   0   0\n",
      "    0   0   0   0   0   0   0   0   0   0]\n",
      " [  0   0   0   0   0   0   0   0   0   0   0   0   0   0   0   0   0   0\n",
      "    0   0   0   0   0   0   0   0   0   0]\n",
      " [  0   0   0   0   0   0   0   0   0   0   0   0   0   0   0   0   0   0\n",
      "    0   0   0   0   0   0   0   0   0   0]\n",
      " [  0   0   0   0   0   0   0   0   0   0   0  42 118 219 166 118 118   6\n",
      "    0   0   0   0   0   0   0   0   0   0]\n",
      " [  0   0   0   0   0   0   0   0   0   0 103 242 254 254 254 254 254  66\n",
      "    0   0   0   0   0   0   0   0   0   0]\n",
      " [  0   0   0   0   0   0   0   0   0   0  18 232 254 254 254 254 254 238\n",
      "   70   0   0   0   0   0   0   0   0   0]\n",
      " [  0   0   0   0   0   0   0   0   0   0   0 104 244 254 224 254 254 254\n",
      "  141   0   0   0   0   0   0   0   0   0]\n",
      " [  0   0   0   0   0   0   0   0   0   0   0   0 207 254 210 254 254 254\n",
      "   34   0   0   0   0   0   0   0   0   0]\n",
      " [  0   0   0   0   0   0   0   0   0   0   0   0  84 206 254 254 254 254\n",
      "   41   0   0   0   0   0   0   0   0   0]\n",
      " [  0   0   0   0   0   0   0   0   0   0   0   0   0  24 209 254 254 254\n",
      "  171   0   0   0   0   0   0   0   0   0]\n",
      " [  0   0   0   0   0   0   0   0   0   0   0   0  91 137 253 254 254 254\n",
      "  112   0   0   0   0   0   0   0   0   0]\n",
      " [  0   0   0   0   0   0   0   0   0   0  40 214 250 254 254 254 254 254\n",
      "   34   0   0   0   0   0   0   0   0   0]\n",
      " [  0   0   0   0   0   0   0   0   0   0  81 247 254 254 254 254 254 254\n",
      "  146   0   0   0   0   0   0   0   0   0]\n",
      " [  0   0   0   0   0   0   0   0   0   0   0 110 246 254 254 254 254 254\n",
      "  171   0   0   0   0   0   0   0   0   0]\n",
      " [  0   0   0   0   0   0   0   0   0   0   0   0  73  89  89  93 240 254\n",
      "  171   0   0   0   0   0   0   0   0   0]\n",
      " [  0   0   0   0   0   0   0   0   0   0   0   0   0   0   0   1 128 254\n",
      "  219  31   0   0   0   0   0   0   0   0]\n",
      " [  0   0   0   0   0   0   0   0   0   0   0   0   0   0   0   7 254 254\n",
      "  214  28   0   0   0   0   0   0   0   0]\n",
      " [  0   0   0   0   0   0   0   0   0   0   0   0   0   0   0 138 254 254\n",
      "  116   0   0   0   0   0   0   0   0   0]\n",
      " [  0   0   0   0   0   0  19 177  90   0   0   0   0   0  25 240 254 254\n",
      "   34   0   0   0   0   0   0   0   0   0]\n",
      " [  0   0   0   0   0   0 164 254 215  63  36   0  51  89 206 254 254 139\n",
      "    8   0   0   0   0   0   0   0   0   0]\n",
      " [  0   0   0   0   0   0  57 197 254 254 222 180 241 254 254 253 213  11\n",
      "    0   0   0   0   0   0   0   0   0   0]\n",
      " [  0   0   0   0   0   0   0 140 105 254 254 254 254 254 254 236   0   0\n",
      "    0   0   0   0   0   0   0   0   0   0]\n",
      " [  0   0   0   0   0   0   0   0   7 117 117 165 254 254 239  50   0   0\n",
      "    0   0   0   0   0   0   0   0   0   0]\n",
      " [  0   0   0   0   0   0   0   0   0   0   0   0   0   0   0   0   0   0\n",
      "    0   0   0   0   0   0   0   0   0   0]\n",
      " [  0   0   0   0   0   0   0   0   0   0   0   0   0   0   0   0   0   0\n",
      "    0   0   0   0   0   0   0   0   0   0]\n",
      " [  0   0   0   0   0   0   0   0   0   0   0   0   0   0   0   0   0   0\n",
      "    0   0   0   0   0   0   0   0   0   0]\n",
      " [  0   0   0   0   0   0   0   0   0   0   0   0   0   0   0   0   0   0\n",
      "    0   0   0   0   0   0   0   0   0   0]]\n"
     ]
    }
   ],
   "source": [
    "index = 10  # Change this index to view different images\n",
    "print(\"Label:\", y_train[index])\n",
    "print(\"Pixel values:\\n\", X_train[index])  # Each pixel is a value between 0 and 255"
   ]
  },
  {
   "cell_type": "markdown",
   "id": "9066ec2a",
   "metadata": {},
   "source": [
    "## Step 5: Display some digits\n"
   ]
  },
  {
   "cell_type": "code",
   "execution_count": 351,
   "id": "2b1830cd",
   "metadata": {},
   "outputs": [
    {
     "data": {
      "image/png": "[encoded data removed]",
      "text/plain": [
       "<Figure size 1000x200 with 5 Axes>"
      ]
     },
     "metadata": {},
     "output_type": "display_data"
    }
   ],
   "source": [
    "plt.figure(figsize=(10, 2))\n",
    "\n",
    "for index in range(5): # let's visualize the first 5 images of the training set\n",
    "    plt.subplot(1, 5, index + 1) \n",
    "    plt.imshow(X_train[index], cmap='gray')\n",
    "    plt.title(f\"Label: {y_train[index]}\")\n",
    "\n",
    "plt.tight_layout()\n",
    "plt.show()"
   ]
  },
  {
   "cell_type": "markdown",
   "id": "c033c57c",
   "metadata": {},
   "source": [
    "# MNIST – PREPROCESSING"
   ]
  },
  {
   "cell_type": "markdown",
   "id": "e2eee178",
   "metadata": {},
   "source": [
    "## Step 1 : Flatten images"
   ]
  },
  {
   "cell_type": "code",
   "execution_count": 352,
   "id": "857eb7b3",
   "metadata": {},
   "outputs": [],
   "source": [
    "X_train_flatten = X_train.reshape(X_train.shape[0], -1)  # Flatten the images\n",
    "X_test_flatten = X_test.reshape(X_test.shape[0], -1)"
   ]
  },
  {
   "cell_type": "code",
   "execution_count": 353,
   "id": "4037c1ea",
   "metadata": {},
   "outputs": [],
   "source": [
    "# X_train.reshape(X_train.shape[0], -1) = X_train.reshape(X_train.shape[0], X_train.shape[1] * X_train.shape[2])"
   ]
  },
  {
   "cell_type": "code",
   "execution_count": 354,
   "id": "9f0302fe",
   "metadata": {},
   "outputs": [
    {
     "name": "stdout",
     "output_type": "stream",
     "text": [
      "Flattened training data shape: (60000, 784)\n",
      "Flattened test data shape: (10000, 784)\n"
     ]
    }
   ],
   "source": [
    "print(\"Flattened training data shape:\", X_train_flatten.shape)\n",
    "print(\"Flattened test data shape:\", X_test_flatten.shape)"
   ]
  },
  {
   "cell_type": "markdown",
   "id": "3ba808a9",
   "metadata": {},
   "source": [
    "## Step 2 : Normalize images"
   ]
  },
  {
   "cell_type": "code",
   "execution_count": 355,
   "id": "174080d5",
   "metadata": {},
   "outputs": [
    {
     "name": "stdout",
     "output_type": "stream",
     "text": [
      "Max pixel value in training data: 255\n"
     ]
    }
   ],
   "source": [
    "max_value = np.max(X_train)\n",
    "print(\"Max pixel value in training data:\", max_value)"
   ]
  },
  {
   "cell_type": "code",
   "execution_count": 356,
   "id": "6fcbf0d9",
   "metadata": {},
   "outputs": [],
   "source": [
    "X_train_normalized = X_train_flatten / max_value\n",
    "X_test_normalized = X_test_flatten / max_value"
   ]
  },
  {
   "cell_type": "code",
   "execution_count": 357,
   "id": "01f3ca12",
   "metadata": {},
   "outputs": [
    {
     "name": "stdout",
     "output_type": "stream",
     "text": [
      "Example of normalized training data: [0.         0.         0.         0.         0.         0.\n",
      " 0.         0.         0.         0.         0.         0.\n",
      " 0.         0.         0.         0.         0.         0.\n",
      " 0.         0.         0.         0.         0.         0.\n",
      " 0.         0.         0.         0.         0.         0.\n",
      " 0.         0.         0.         0.         0.         0.\n",
      " 0.         0.         0.         0.         0.         0.\n",
      " 0.         0.         0.         0.         0.         0.\n",
      " 0.         0.         0.         0.         0.01176471 0.07058824\n",
      " 0.07058824 0.07058824 0.49411765 0.53333333 0.68627451 0.10196078\n",
      " 0.65098039 1.         0.96862745 0.49803922 0.         0.\n",
      " 0.         0.         0.         0.         0.         0.\n",
      " 0.         0.         0.         0.         0.11764706 0.14117647\n",
      " 0.36862745 0.60392157 0.66666667 0.99215686 0.99215686 0.99215686\n",
      " 0.99215686 0.99215686 0.88235294 0.6745098  0.99215686 0.94901961\n",
      " 0.76470588 0.25098039 0.         0.         0.         0.\n",
      " 0.         0.         0.         0.        ]\n"
     ]
    }
   ],
   "source": [
    "print(\"Example of normalized training data:\", X_train_normalized[0][100:200]) # Displaying a slice of the first normalized image"
   ]
  },
  {
   "cell_type": "code",
   "execution_count": 358,
   "id": "b4327577",
   "metadata": {},
   "outputs": [],
   "source": [
    "# Final input to the model\n",
    "X_train_input = X_train_normalized\n",
    "X_test_input = X_test_normalized"
   ]
  },
  {
   "cell_type": "code",
   "execution_count": 359,
   "id": "c14044d6",
   "metadata": {},
   "outputs": [
    {
     "name": "stdout",
     "output_type": "stream",
     "text": [
      "One-hot encoded training labels shape: (60000, 10)\n",
      "One-hot encoded test labels shape: (10000, 10)\n",
      "First 5 one-hot encoded training labels:\n",
      " [[0. 0. 0. 0. 0. 1. 0. 0. 0. 0.]\n",
      " [1. 0. 0. 0. 0. 0. 0. 0. 0. 0.]\n",
      " [0. 0. 0. 0. 1. 0. 0. 0. 0. 0.]\n",
      " [0. 1. 0. 0. 0. 0. 0. 0. 0. 0.]\n",
      " [0. 0. 0. 0. 0. 0. 0. 0. 0. 1.]]\n"
     ]
    }
   ],
   "source": [
    "# one-hot encoding the labels\n",
    "from tensorflow.keras.utils import to_categorical\n",
    "y_train_one_hot = to_categorical(y_train, num_classes=10)\n",
    "y_test_one_hot = to_categorical(y_test, num_classes=10)\n",
    "print(\"One-hot encoded training labels shape:\", y_train_one_hot.shape)\n",
    "print(\"One-hot encoded test labels shape:\", y_test_one_hot.shape)\n",
    "\n",
    "# Displaying the first 5 one-hot encoded labels\n",
    "print(\"First 5 one-hot encoded training labels:\\n\", y_train_one_hot[:5])"
   ]
  },
  {
   "cell_type": "code",
   "execution_count": 360,
   "id": "f60f6ffc",
   "metadata": {},
   "outputs": [],
   "source": [
    "y_train_input = y_train_one_hot\n",
    "y_test_input = y_test_one_hot"
   ]
  },
  {
   "cell_type": "markdown",
   "id": "aa05a529",
   "metadata": {},
   "source": [
    "# MNIST – MLP MODEL"
   ]
  },
  {
   "cell_type": "code",
   "execution_count": 361,
   "id": "a5aba745",
   "metadata": {},
   "outputs": [],
   "source": [
    "from tensorflow.keras.models import Sequential  # Sequential model for building the neural network\n",
    "from tensorflow.keras.layers import Input       # Input layer for the model\n",
    "from tensorflow.keras.layers import Dense       # Dense layer for fully connected layers"
   ]
  },
  {
   "cell_type": "code",
   "execution_count": 362,
   "id": "b5aa47ae",
   "metadata": {},
   "outputs": [
    {
     "data": {
      "text/plain": [
       "(60000, 784)"
      ]
     },
     "execution_count": 362,
     "metadata": {},
     "output_type": "execute_result"
    }
   ],
   "source": [
    "X_train_input.shape"
   ]
  },
  {
   "cell_type": "code",
   "execution_count": 363,
   "id": "2c8702fd",
   "metadata": {},
   "outputs": [],
   "source": [
    "model = Sequential([\n",
    "    Input(shape=(X_train_input.shape[1],)),     # input layer properly defined\n",
    "    Dense(128, activation='relu'),              # hidden layer with 128 neurons\n",
    "    Dense(64, activation='relu'),               # hidden layer with 64 neurons\n",
    "    Dense(10, activation='softmax')             # output layer for 10 classes (digits 0-9)\n",
    "])"
   ]
  },
  {
   "cell_type": "code",
   "execution_count": 364,
   "id": "410fe0ee",
   "metadata": {},
   "outputs": [],
   "source": [
    "model.compile(\n",
    "    loss = 'categorical_crossentropy',          # categorical crossentropy for multi-class classification\n",
    "    optimizer = 'sgd',                          # stochastic gradient descent optimizer\n",
    "    metrics = ['accuracy']                      # metrics to track during training\n",
    ")"
   ]
  },
  {
   "cell_type": "markdown",
   "id": "e54e6dfc",
   "metadata": {},
   "source": [
    "# MNIST – TRAINING "
   ]
  },
  {
   "cell_type": "code",
   "execution_count": 365,
   "id": "61624d06",
   "metadata": {},
   "outputs": [
    {
     "name": "stdout",
     "output_type": "stream",
     "text": [
      "(60000, 784)\n",
      "(60000, 10)\n"
     ]
    }
   ],
   "source": [
    "print(X_train_input.shape)  # doit être (60000, 784)\n",
    "print(y_train_input.shape)  # doit être (60000, 10)"
   ]
  },
  {
   "cell_type": "code",
   "execution_count": 366,
   "id": "23d23234",
   "metadata": {},
   "outputs": [
    {
     "name": "stdout",
     "output_type": "stream",
     "text": [
      "Epoch 1/10\n",
      "\u001b[1m1688/1688\u001b[0m \u001b[32m━━━━━━━━━━━━━━━━━━━━\u001b[0m\u001b[37m\u001b[0m \u001b[1m2s\u001b[0m 814us/step - accuracy: 0.6991 - loss: 1.1059 - val_accuracy: 0.9208 - val_loss: 0.2830\n",
      "Epoch 2/10\n",
      "\u001b[1m1688/1688\u001b[0m \u001b[32m━━━━━━━━━━━━━━━━━━━━\u001b[0m\u001b[37m\u001b[0m \u001b[1m1s\u001b[0m 811us/step - accuracy: 0.9090 - loss: 0.3157 - val_accuracy: 0.9327 - val_loss: 0.2298\n",
      "Epoch 3/10\n",
      "\u001b[1m1688/1688\u001b[0m \u001b[32m━━━━━━━━━━━━━━━━━━━━\u001b[0m\u001b[37m\u001b[0m \u001b[1m1s\u001b[0m 783us/step - accuracy: 0.9254 - loss: 0.2584 - val_accuracy: 0.9462 - val_loss: 0.1932\n",
      "Epoch 4/10\n",
      "\u001b[1m1688/1688\u001b[0m \u001b[32m━━━━━━━━━━━━━━━━━━━━\u001b[0m\u001b[37m\u001b[0m \u001b[1m1s\u001b[0m 764us/step - accuracy: 0.9384 - loss: 0.2180 - val_accuracy: 0.9550 - val_loss: 0.1631\n",
      "Epoch 5/10\n",
      "\u001b[1m1688/1688\u001b[0m \u001b[32m━━━━━━━━━━━━━━━━━━━━\u001b[0m\u001b[37m\u001b[0m \u001b[1m1s\u001b[0m 790us/step - accuracy: 0.9441 - loss: 0.1913 - val_accuracy: 0.9608 - val_loss: 0.1452\n",
      "Epoch 6/10\n",
      "\u001b[1m1688/1688\u001b[0m \u001b[32m━━━━━━━━━━━━━━━━━━━━\u001b[0m\u001b[37m\u001b[0m \u001b[1m1s\u001b[0m 763us/step - accuracy: 0.9505 - loss: 0.1709 - val_accuracy: 0.9635 - val_loss: 0.1354\n",
      "Epoch 7/10\n",
      "\u001b[1m1688/1688\u001b[0m \u001b[32m━━━━━━━━━━━━━━━━━━━━\u001b[0m\u001b[37m\u001b[0m \u001b[1m1s\u001b[0m 750us/step - accuracy: 0.9552 - loss: 0.1554 - val_accuracy: 0.9643 - val_loss: 0.1268\n",
      "Epoch 8/10\n",
      "\u001b[1m1688/1688\u001b[0m \u001b[32m━━━━━━━━━━━━━━━━━━━━\u001b[0m\u001b[37m\u001b[0m \u001b[1m1s\u001b[0m 787us/step - accuracy: 0.9591 - loss: 0.1407 - val_accuracy: 0.9678 - val_loss: 0.1194\n",
      "Epoch 9/10\n",
      "\u001b[1m1688/1688\u001b[0m \u001b[32m━━━━━━━━━━━━━━━━━━━━\u001b[0m\u001b[37m\u001b[0m \u001b[1m1s\u001b[0m 748us/step - accuracy: 0.9624 - loss: 0.1331 - val_accuracy: 0.9685 - val_loss: 0.1126\n",
      "Epoch 10/10\n",
      "\u001b[1m1688/1688\u001b[0m \u001b[32m━━━━━━━━━━━━━━━━━━━━\u001b[0m\u001b[37m\u001b[0m \u001b[1m1s\u001b[0m 749us/step - accuracy: 0.9660 - loss: 0.1196 - val_accuracy: 0.9698 - val_loss: 0.1116\n"
     ]
    }
   ],
   "source": [
    "history = model.fit(\n",
    "    X_train_input, y_train_input,\n",
    "    epochs=10,\n",
    "    batch_size=32,\n",
    "    validation_split=0.1\n",
    ")"
   ]
  },
  {
   "cell_type": "code",
   "execution_count": 367,
   "id": "5f89ef05",
   "metadata": {},
   "outputs": [
    {
     "name": "stdout",
     "output_type": "stream",
     "text": [
      "dict_keys(['accuracy', 'loss', 'val_accuracy', 'val_loss'])\n"
     ]
    }
   ],
   "source": [
    "print(history.history.keys())"
   ]
  },
  {
   "cell_type": "code",
   "execution_count": 368,
   "id": "8492544d",
   "metadata": {},
   "outputs": [
    {
     "data": {
      "image/png": "[encoded data removed]",
      "text/plain": [
       "<Figure size 640x480 with 1 Axes>"
      ]
     },
     "metadata": {},
     "output_type": "display_data"
    }
   ],
   "source": [
    "plt.plot(history.history['accuracy'], label='Training Accuracy')\n",
    "plt.plot(history.history['val_accuracy'], label='Validation Accuracy')\n",
    "plt.title('Model Accuracy')\n",
    "plt.ylabel('Accuracy')\n",
    "plt.xlabel('Epoch')\n",
    "plt.legend()\n",
    "plt.show()"
   ]
  },
  {
   "cell_type": "code",
   "execution_count": 369,
   "id": "c681d05c",
   "metadata": {},
   "outputs": [
    {
     "data": {
      "image/png": "[encoded data removed]",
      "text/plain": [
       "<Figure size 640x480 with 1 Axes>"
      ]
     },
     "metadata": {},
     "output_type": "display_data"
    }
   ],
   "source": [
    "plt.plot(history.history['loss'], label='Training Loss')\n",
    "plt.plot(history.history['val_loss'], label='Validation Loss')\n",
    "plt.title('Model Loss')\n",
    "plt.ylabel('Loss')\n",
    "plt.xlabel('Epoch')\n",
    "plt.legend()\n",
    "plt.show()"
   ]
  },
  {
   "cell_type": "markdown",
   "id": "432bc334",
   "metadata": {},
   "source": [
    "# MNIST – EVALUATION"
   ]
  },
  {
   "cell_type": "markdown",
   "id": "bda8b2c9",
   "metadata": {},
   "source": [
    "# MNIST – METRICS"
   ]
  }
 ],
 "metadata": {
  "kernelspec": {
   "display_name": "base",
   "language": "python",
   "name": "python3"
  },
  "language_info": {
   "codemirror_mode": {
    "name": "ipython",
    "version": 3
   },
   "file_extension": ".py",
   "mimetype": "text/x-python",
   "name": "python",
   "nbconvert_exporter": "python",
   "pygments_lexer": "ipython3",
   "version": "3.12.7"
  }
 },
 "nbformat": 4,
 "nbformat_minor": 5
}
